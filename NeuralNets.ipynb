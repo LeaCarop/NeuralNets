{
  "nbformat": 4,
  "nbformat_minor": 0,
  "metadata": {
    "colab": {
      "name": "NeuralNets.ipynb",
      "provenance": [],
      "authorship_tag": "ABX9TyM3oonAe5L/1C6/NbAIdKkn",
      "include_colab_link": true
    },
    "kernelspec": {
      "name": "python3",
      "display_name": "Python 3"
    },
    "language_info": {
      "name": "python"
    }
  },
  "cells": [
    {
      "cell_type": "markdown",
      "metadata": {
        "id": "view-in-github",
        "colab_type": "text"
      },
      "source": [
        "<a href=\"https://colab.research.google.com/github/LeaCarop/NeuralNets/blob/main/NeuralNets.ipynb\" target=\"_parent\"><img src=\"https://colab.research.google.com/assets/colab-badge.svg\" alt=\"Open In Colab\"/></a>"
      ]
    },
    {
      "cell_type": "code",
      "execution_count": null,
      "metadata": {
        "id": "RzoeqAj8QyNw"
      },
      "outputs": [],
      "source": [
        "#@title Run on TensorFlow 2.x\n",
        "%tensorflow_version 2.x\n",
        "from __future__ import absolute_import, division, print_function, unicode_literals"
      ]
    },
    {
      "cell_type": "markdown",
      "source": [
        "**Cargar librerías**"
      ],
      "metadata": {
        "id": "cUc2C51URJJ1"
      }
    },
    {
      "cell_type": "code",
      "source": [
        "import numpy as np\n",
        "import pandas as pd\n",
        "import tensorflow as tf\n",
        "from tensorflow.keras import layers\n",
        "from matplotlib import pyplot as plt\n",
        "import seaborn as sns\n",
        "\n",
        "# The following lines adjust the granularity of reporting. \n",
        "pd.options.display.max_rows = 10\n",
        "pd.options.display.float_format = \"{:.1f}\".format"
      ],
      "metadata": {
        "id": "zRrAGKfXRMxV"
      },
      "execution_count": null,
      "outputs": []
    },
    {
      "cell_type": "markdown",
      "source": [
        "**Descargar Dataset**"
      ],
      "metadata": {
        "id": "josfgzxaRaEI"
      }
    },
    {
      "cell_type": "code",
      "source": [
        "train_df = pd.read_csv(\"https://download.mlcc.google.com/mledu-datasets/california_housing_train.csv\")\n",
        "train_df = train_df.reindex(np.random.permutation(train_df.index)) # mezclar los ejemplos\n",
        "test_df = pd.read_csv(\"https://download.mlcc.google.com/mledu-datasets/california_housing_test.csv\")"
      ],
      "metadata": {
        "id": "4AyYfS03Re3g"
      },
      "execution_count": null,
      "outputs": []
    },
    {
      "cell_type": "markdown",
      "source": [
        "**Normalizar valores**\n",
        "\n",
        "La siguiente celda de código normaliza los conjuntos de datos convirtiendo cada valor sin procesar en su puntuación Z. "
      ],
      "metadata": {
        "id": "ESToyuXYRpVk"
      }
    },
    {
      "cell_type": "code",
      "source": [
        "# Cáculo de Z-scores para cada columna en el conjunto de entrenamiento:\n",
        "train_df_mean = train_df.mean()\n",
        "train_df_std = train_df.std()\n",
        "train_df_norm = (train_df - train_df_mean)/train_df_std\n",
        "\n",
        "# Cáculo de Z-scores para cada columna en el conjunto de validación:\n",
        "test_df_mean = test_df.mean()\n",
        "test_df_std = test_df.std()\n",
        "test_df_norm = (test_df - test_df_mean)/test_df_std"
      ],
      "metadata": {
        "id": "i9GB1i57RyJ_"
      },
      "execution_count": null,
      "outputs": []
    },
    {
      "cell_type": "markdown",
      "source": [
        "**Representación de datos**\n",
        "\n",
        "La siguienete línea de código crea una capa que contine las siguientes 3 entidades: \n",
        "\n",
        "- latitud X longitud\n",
        "- median_income\n",
        "- population\n"
      ],
      "metadata": {
        "id": "KEInTIp-SVsu"
      }
    },
    {
      "cell_type": "code",
      "source": [
        "feature_columns = []  # columna vacía que más adelante tendrá todas las columnas de características creadas\n",
        "\n",
        "resolution_in_Zs = 0.3  # 3/10 de la desviación estándar.\n",
        "\n",
        "# columna para latitude\n",
        "latitude_as_a_numeric_column = tf.feature_column.numeric_column(\"latitude\")\n",
        "latitude_boundaries = list(np.arange(int(min(train_df_norm['latitude'])), \n",
        "                                     int(max(train_df_norm['latitude'])), \n",
        "                                     resolution_in_Zs))\n",
        "latitude = tf.feature_column.bucketized_column(latitude_as_a_numeric_column, latitude_boundaries)\n",
        "\n",
        "# columna para longitude\n",
        "longitude_as_a_numeric_column = tf.feature_column.numeric_column(\"longitude\")\n",
        "longitude_boundaries = list(np.arange(int(min(train_df_norm['longitude'])), \n",
        "                                      int(max(train_df_norm['longitude'])), \n",
        "                                      resolution_in_Zs))\n",
        "longitude = tf.feature_column.bucketized_column(longitude_as_a_numeric_column, \n",
        "                                                longitude_boundaries)\n",
        "\n",
        "# columna latitude X longitude.\n",
        "latitude_x_longitude = tf.feature_column.crossed_column([latitude, longitude], hash_bucket_size=100)\n",
        "crossed_feature = tf.feature_column.indicator_column(latitude_x_longitude)\n",
        "feature_columns.append(crossed_feature)  \n",
        "\n",
        "# Representar median_income como valor de punto flotante\n",
        "median_income = tf.feature_column.numeric_column(\"median_income\")\n",
        "feature_columns.append(median_income)\n",
        "\n",
        "# Representar population como valor de punto flotante\n",
        "population = tf.feature_column.numeric_column(\"population\")\n",
        "feature_columns.append(population)\n",
        "\n",
        "my_feature_layer = tf.keras.layers.DenseFeatures(feature_columns)"
      ],
      "metadata": {
        "id": "QKR7ykyoSzmh"
      },
      "execution_count": null,
      "outputs": []
    },
    {
      "cell_type": "markdown",
      "source": [
        "**Crear modelo de Regresión Lineal**"
      ],
      "metadata": {
        "id": "YWnqIkoZUCKk"
      }
    },
    {
      "cell_type": "code",
      "source": [
        "def loss_curve(epochs, mse):\n",
        "\n",
        "  plt.figure()\n",
        "  plt.xlabel(\"Epoch\")\n",
        "  plt.ylabel(\"Error Cuadrático Medio\")\n",
        "\n",
        "  plt.plot(epochs, mse, label=\"Loss\")\n",
        "  plt.legend()\n",
        "  plt.ylim([mse.min()*0.95, mse.max() * 1.03])\n",
        "  plt.show()  "
      ],
      "metadata": {
        "id": "xFkK_QorUJEm"
      },
      "execution_count": null,
      "outputs": []
    },
    {
      "cell_type": "code",
      "source": [
        "def crear_modelo(my_learning_rate, feature_layer):\n",
        "  model = tf.keras.models.Sequential()\n",
        "\n",
        "  model.add(feature_layer)\n",
        "\n",
        "  model.add(tf.keras.layers.Dense(units=1, input_shape=(1,)))\n",
        "\n",
        "  model.compile(optimizer=tf.keras.optimizers.RMSprop(lr=my_learning_rate),\n",
        "                loss=\"mean_squared_error\",\n",
        "                metrics=[tf.keras.metrics.MeanSquaredError()])\n",
        "\n",
        "  return model           \n",
        "\n",
        "\n",
        "def train(model, dataset, epochs, batch_size, label_name):\n",
        "\n",
        "  features = {name:np.array(value) for name, value in dataset.items()}\n",
        "  label = np.array(features.pop(label_name))\n",
        "  history = model.fit(x=features, y=label, batch_size=batch_size,\n",
        "                      epochs=epochs, shuffle=True)\n",
        "\n",
        "  epochs = history.epoch\n",
        "  hist = pd.DataFrame(history.history)\n",
        "  rmse = hist[\"mean_squared_error\"]\n",
        "\n",
        "  return epochs, rmse   "
      ],
      "metadata": {
        "id": "jAlBpnalUZMC"
      },
      "execution_count": null,
      "outputs": []
    },
    {
      "cell_type": "markdown",
      "source": [
        "**Hiperparámetros y entrenamiento del modelo**"
      ],
      "metadata": {
        "id": "Zz-cN9ZCUrom"
      }
    },
    {
      "cell_type": "code",
      "source": [
        "learning_rate = 0.01\n",
        "epochs = 15\n",
        "batch_size = 1000\n",
        "label_name = \"median_house_value\"\n",
        "\n",
        "my_model = crear_modelo(learning_rate, my_feature_layer)\n",
        "\n",
        "epochs, mse = train(my_model, train_df_norm, epochs, batch_size, label_name)\n",
        "loss_curve(epochs, mse)\n",
        "\n",
        "test_features = {name:np.array(value) for name, value in test_df_norm.items()}\n",
        "test_label = np.array(test_features.pop(label_name)) \n",
        "print(\"\\n Evalar el modelo de regresión lineal contra el conjunto de prueba:\")\n",
        "my_model.evaluate(x = test_features, y = test_label, batch_size=batch_size)"
      ],
      "metadata": {
        "colab": {
          "base_uri": "https://localhost:8080/",
          "height": 976
        },
        "id": "JKj74VKHUwlh",
        "outputId": "890ebf4e-41c6-4fde-945d-acfd08eb7dfa"
      },
      "execution_count": null,
      "outputs": [
        {
          "output_type": "stream",
          "name": "stdout",
          "text": [
            "Epoch 1/15\n",
            "WARNING:tensorflow:Layers in a Sequential model should only have a single input tensor. Received: inputs={'longitude': <tf.Tensor 'IteratorGetNext:3' shape=(1000,) dtype=float32>, 'latitude': <tf.Tensor 'IteratorGetNext:2' shape=(1000,) dtype=float32>, 'housing_median_age': <tf.Tensor 'IteratorGetNext:1' shape=(1000,) dtype=float32>, 'total_rooms': <tf.Tensor 'IteratorGetNext:7' shape=(1000,) dtype=float32>, 'total_bedrooms': <tf.Tensor 'IteratorGetNext:6' shape=(1000,) dtype=float32>, 'population': <tf.Tensor 'IteratorGetNext:5' shape=(1000,) dtype=float32>, 'households': <tf.Tensor 'IteratorGetNext:0' shape=(1000,) dtype=float32>, 'median_income': <tf.Tensor 'IteratorGetNext:4' shape=(1000,) dtype=float32>}. Consider rewriting this model with the Functional API.\n"
          ]
        },
        {
          "output_type": "stream",
          "name": "stderr",
          "text": [
            "/usr/local/lib/python3.7/dist-packages/keras/optimizer_v2/rmsprop.py:130: UserWarning: The `lr` argument is deprecated, use `learning_rate` instead.\n",
            "  super(RMSprop, self).__init__(name, **kwargs)\n"
          ]
        },
        {
          "output_type": "stream",
          "name": "stdout",
          "text": [
            "WARNING:tensorflow:Layers in a Sequential model should only have a single input tensor. Received: inputs={'longitude': <tf.Tensor 'IteratorGetNext:3' shape=(1000,) dtype=float32>, 'latitude': <tf.Tensor 'IteratorGetNext:2' shape=(1000,) dtype=float32>, 'housing_median_age': <tf.Tensor 'IteratorGetNext:1' shape=(1000,) dtype=float32>, 'total_rooms': <tf.Tensor 'IteratorGetNext:7' shape=(1000,) dtype=float32>, 'total_bedrooms': <tf.Tensor 'IteratorGetNext:6' shape=(1000,) dtype=float32>, 'population': <tf.Tensor 'IteratorGetNext:5' shape=(1000,) dtype=float32>, 'households': <tf.Tensor 'IteratorGetNext:0' shape=(1000,) dtype=float32>, 'median_income': <tf.Tensor 'IteratorGetNext:4' shape=(1000,) dtype=float32>}. Consider rewriting this model with the Functional API.\n",
            "17/17 [==============================] - 1s 3ms/step - loss: 0.6720 - mean_squared_error: 0.6720\n",
            "Epoch 2/15\n",
            "17/17 [==============================] - 0s 3ms/step - loss: 0.4756 - mean_squared_error: 0.4756\n",
            "Epoch 3/15\n",
            "17/17 [==============================] - 0s 3ms/step - loss: 0.4012 - mean_squared_error: 0.4012\n",
            "Epoch 4/15\n",
            "17/17 [==============================] - 0s 3ms/step - loss: 0.3745 - mean_squared_error: 0.3745\n",
            "Epoch 5/15\n",
            "17/17 [==============================] - 0s 3ms/step - loss: 0.3664 - mean_squared_error: 0.3664\n",
            "Epoch 6/15\n",
            "17/17 [==============================] - 0s 3ms/step - loss: 0.3627 - mean_squared_error: 0.3627\n",
            "Epoch 7/15\n",
            "17/17 [==============================] - 0s 3ms/step - loss: 0.3612 - mean_squared_error: 0.3612\n",
            "Epoch 8/15\n",
            "17/17 [==============================] - 0s 3ms/step - loss: 0.3606 - mean_squared_error: 0.3606\n",
            "Epoch 9/15\n",
            "17/17 [==============================] - 0s 4ms/step - loss: 0.3602 - mean_squared_error: 0.3602\n",
            "Epoch 10/15\n",
            "17/17 [==============================] - 0s 4ms/step - loss: 0.3598 - mean_squared_error: 0.3598\n",
            "Epoch 11/15\n",
            "17/17 [==============================] - 0s 3ms/step - loss: 0.3601 - mean_squared_error: 0.3601\n",
            "Epoch 12/15\n",
            "17/17 [==============================] - 0s 3ms/step - loss: 0.3597 - mean_squared_error: 0.3597\n",
            "Epoch 13/15\n",
            "17/17 [==============================] - 0s 3ms/step - loss: 0.3598 - mean_squared_error: 0.3598\n",
            "Epoch 14/15\n",
            "17/17 [==============================] - 0s 3ms/step - loss: 0.3602 - mean_squared_error: 0.3602\n",
            "Epoch 15/15\n",
            "17/17 [==============================] - 0s 3ms/step - loss: 0.3600 - mean_squared_error: 0.3600\n"
          ]
        },
        {
          "output_type": "display_data",
          "data": {
            "text/plain": [
              "<Figure size 432x288 with 1 Axes>"
            ],
            "image/png": "[encoded data removed]"
          },
          "metadata": {
            "needs_background": "light"
          }
        },
        {
          "output_type": "stream",
          "name": "stdout",
          "text": [
            "\n",
            " Evalar el modelo de regresión lineal contra el conjunto de prueba:\n",
            "WARNING:tensorflow:Layers in a Sequential model should only have a single input tensor. Received: inputs={'longitude': <tf.Tensor 'IteratorGetNext:3' shape=(1000,) dtype=float32>, 'latitude': <tf.Tensor 'IteratorGetNext:2' shape=(1000,) dtype=float32>, 'housing_median_age': <tf.Tensor 'IteratorGetNext:1' shape=(1000,) dtype=float32>, 'total_rooms': <tf.Tensor 'IteratorGetNext:7' shape=(1000,) dtype=float32>, 'total_bedrooms': <tf.Tensor 'IteratorGetNext:6' shape=(1000,) dtype=float32>, 'population': <tf.Tensor 'IteratorGetNext:5' shape=(1000,) dtype=float32>, 'households': <tf.Tensor 'IteratorGetNext:0' shape=(1000,) dtype=float32>, 'median_income': <tf.Tensor 'IteratorGetNext:4' shape=(1000,) dtype=float32>}. Consider rewriting this model with the Functional API.\n",
            "3/3 [==============================] - 0s 5ms/step - loss: 0.3951 - mean_squared_error: 0.3951\n"
          ]
        },
        {
          "output_type": "execute_result",
          "data": {
            "text/plain": [
              "[0.3950660526752472, 0.3950660526752472]"
            ]
          },
          "metadata": {},
          "execution_count": 29
        }
      ]
    },
    {
      "cell_type": "markdown",
      "source": [
        "**Definir modelo de Red Neuronal**"
      ],
      "metadata": {
        "id": "soTXOqGzVfE-"
      }
    },
    {
      "cell_type": "code",
      "source": [
        "def crear_modelo(my_learning_rate, my_feature_layer):\n",
        "\n",
        "  model = tf.keras.models.Sequential()\n",
        "\n",
        "  model.add(my_feature_layer)\n",
        "\n",
        "  model.add(tf.keras.layers.Dense(units=20, \n",
        "                                  activation='relu', \n",
        "                                  name='Hidden1'))   # primera capa de 20 neuronas y activación relu\n",
        "  \n",
        "  model.add(tf.keras.layers.Dense(units=12, \n",
        "                                  activation='relu', \n",
        "                                  name='Hidden2'))   # segunda capa de 12 neuronas y activación relu\n",
        "  \n",
        "  model.add(tf.keras.layers.Dense(units=1,  \n",
        "                                  name='Output'))    # capa de salida                         \n",
        "  \n",
        "  model.compile(optimizer=tf.keras.optimizers.Adam(lr=my_learning_rate),\n",
        "                loss=\"mean_squared_error\",\n",
        "                metrics=[tf.keras.metrics.MeanSquaredError()])\n",
        "\n",
        "  return model"
      ],
      "metadata": {
        "id": "sFiu5543VlzM"
      },
      "execution_count": null,
      "outputs": []
    },
    {
      "cell_type": "markdown",
      "source": [
        "**Definir función de entrenamiento**"
      ],
      "metadata": {
        "id": "DHUE5LLgWSwQ"
      }
    },
    {
      "cell_type": "code",
      "source": [
        "def train(model, dataset, epochs, label_name,\n",
        "                batch_size=None):\n",
        "\n",
        "  features = {name:np.array(value) for name, value in dataset.items()}\n",
        "  label = np.array(features.pop(label_name))\n",
        "  history = model.fit(x=features, y=label, batch_size=batch_size,\n",
        "                      epochs=epochs, shuffle=True) \n",
        "\n",
        "  epochs = history.epoch\n",
        "\n",
        "  hist = pd.DataFrame(history.history)\n",
        "  mse = hist[\"mean_squared_error\"]\n",
        "\n",
        "  return epochs, mse"
      ],
      "metadata": {
        "id": "EBhKz4PPWWMR"
      },
      "execution_count": null,
      "outputs": []
    },
    {
      "cell_type": "markdown",
      "source": [
        "**Entrenamiento del modelo**"
      ],
      "metadata": {
        "id": "r_K7YhxzWm2i"
      }
    },
    {
      "cell_type": "code",
      "source": [
        "learning_rate = 0.01\n",
        "epochs = 20\n",
        "batch_size = 1000\n",
        "\n",
        "label_name = \"median_house_value\"\n",
        "\n",
        "my_model = crear_modelo(learning_rate, my_feature_layer)\n",
        "\n",
        "epochs, mse = train(my_model, train_df_norm, epochs, \n",
        "                          label_name, batch_size)\n",
        "loss_curve(epochs, mse)\n",
        "\n",
        "test_features = {name:np.array(value) for name, value in test_df_norm.items()}\n",
        "test_label = np.array(test_features.pop(label_name)) \n",
        "print(\"\\n Evaluar el nuevo modelo con el conjunto de validación:\")\n",
        "my_model.evaluate(x = test_features, y = test_label, batch_size=batch_size)"
      ],
      "metadata": {
        "colab": {
          "base_uri": "https://localhost:8080/",
          "height": 1000
        },
        "id": "voLy_W_yWpaC",
        "outputId": "4e78ed0b-9921-43f2-d985-79bfdb268a9e"
      },
      "execution_count": null,
      "outputs": [
        {
          "output_type": "stream",
          "name": "stdout",
          "text": [
            "Epoch 1/20\n",
            "WARNING:tensorflow:Layers in a Sequential model should only have a single input tensor. Received: inputs={'longitude': <tf.Tensor 'IteratorGetNext:3' shape=(1000,) dtype=float32>, 'latitude': <tf.Tensor 'IteratorGetNext:2' shape=(1000,) dtype=float32>, 'housing_median_age': <tf.Tensor 'IteratorGetNext:1' shape=(1000,) dtype=float32>, 'total_rooms': <tf.Tensor 'IteratorGetNext:7' shape=(1000,) dtype=float32>, 'total_bedrooms': <tf.Tensor 'IteratorGetNext:6' shape=(1000,) dtype=float32>, 'population': <tf.Tensor 'IteratorGetNext:5' shape=(1000,) dtype=float32>, 'households': <tf.Tensor 'IteratorGetNext:0' shape=(1000,) dtype=float32>, 'median_income': <tf.Tensor 'IteratorGetNext:4' shape=(1000,) dtype=float32>}. Consider rewriting this model with the Functional API.\n"
          ]
        },
        {
          "output_type": "stream",
          "name": "stderr",
          "text": [
            "/usr/local/lib/python3.7/dist-packages/keras/optimizer_v2/adam.py:105: UserWarning: The `lr` argument is deprecated, use `learning_rate` instead.\n",
            "  super(Adam, self).__init__(name, **kwargs)\n"
          ]
        },
        {
          "output_type": "stream",
          "name": "stdout",
          "text": [
            "WARNING:tensorflow:Layers in a Sequential model should only have a single input tensor. Received: inputs={'longitude': <tf.Tensor 'IteratorGetNext:3' shape=(1000,) dtype=float32>, 'latitude': <tf.Tensor 'IteratorGetNext:2' shape=(1000,) dtype=float32>, 'housing_median_age': <tf.Tensor 'IteratorGetNext:1' shape=(1000,) dtype=float32>, 'total_rooms': <tf.Tensor 'IteratorGetNext:7' shape=(1000,) dtype=float32>, 'total_bedrooms': <tf.Tensor 'IteratorGetNext:6' shape=(1000,) dtype=float32>, 'population': <tf.Tensor 'IteratorGetNext:5' shape=(1000,) dtype=float32>, 'households': <tf.Tensor 'IteratorGetNext:0' shape=(1000,) dtype=float32>, 'median_income': <tf.Tensor 'IteratorGetNext:4' shape=(1000,) dtype=float32>}. Consider rewriting this model with the Functional API.\n",
            "17/17 [==============================] - 1s 4ms/step - loss: 0.6559 - mean_squared_error: 0.6559\n",
            "Epoch 2/20\n",
            "17/17 [==============================] - 0s 4ms/step - loss: 0.3799 - mean_squared_error: 0.3799\n",
            "Epoch 3/20\n",
            "17/17 [==============================] - 0s 4ms/step - loss: 0.3491 - mean_squared_error: 0.3491\n",
            "Epoch 4/20\n",
            "17/17 [==============================] - 0s 4ms/step - loss: 0.3421 - mean_squared_error: 0.3421\n",
            "Epoch 5/20\n",
            "17/17 [==============================] - 0s 5ms/step - loss: 0.3380 - mean_squared_error: 0.3380\n",
            "Epoch 6/20\n",
            "17/17 [==============================] - 0s 4ms/step - loss: 0.3366 - mean_squared_error: 0.3366\n",
            "Epoch 7/20\n",
            "17/17 [==============================] - 0s 4ms/step - loss: 0.3341 - mean_squared_error: 0.3341\n",
            "Epoch 8/20\n",
            "17/17 [==============================] - 0s 4ms/step - loss: 0.3341 - mean_squared_error: 0.3341\n",
            "Epoch 9/20\n",
            "17/17 [==============================] - 0s 5ms/step - loss: 0.3322 - mean_squared_error: 0.3322\n",
            "Epoch 10/20\n",
            "17/17 [==============================] - 0s 4ms/step - loss: 0.3310 - mean_squared_error: 0.3310\n",
            "Epoch 11/20\n",
            "17/17 [==============================] - 0s 4ms/step - loss: 0.3294 - mean_squared_error: 0.3294\n",
            "Epoch 12/20\n",
            "17/17 [==============================] - 0s 4ms/step - loss: 0.3298 - mean_squared_error: 0.3298\n",
            "Epoch 13/20\n",
            "17/17 [==============================] - 0s 4ms/step - loss: 0.3280 - mean_squared_error: 0.3280\n",
            "Epoch 14/20\n",
            "17/17 [==============================] - 0s 4ms/step - loss: 0.3276 - mean_squared_error: 0.3276\n",
            "Epoch 15/20\n",
            "17/17 [==============================] - 0s 4ms/step - loss: 0.3268 - mean_squared_error: 0.3268\n",
            "Epoch 16/20\n",
            "17/17 [==============================] - 0s 4ms/step - loss: 0.3270 - mean_squared_error: 0.3270\n",
            "Epoch 17/20\n",
            "17/17 [==============================] - 0s 4ms/step - loss: 0.3272 - mean_squared_error: 0.3272\n",
            "Epoch 18/20\n",
            "17/17 [==============================] - 0s 5ms/step - loss: 0.3267 - mean_squared_error: 0.3267\n",
            "Epoch 19/20\n",
            "17/17 [==============================] - 0s 4ms/step - loss: 0.3253 - mean_squared_error: 0.3253\n",
            "Epoch 20/20\n",
            "17/17 [==============================] - 0s 4ms/step - loss: 0.3248 - mean_squared_error: 0.3248\n"
          ]
        },
        {
          "output_type": "display_data",
          "data": {
            "text/plain": [
              "<Figure size 432x288 with 1 Axes>"
            ],
            "image/png": "[encoded data removed]"
          },
          "metadata": {
            "needs_background": "light"
          }
        },
        {
          "output_type": "stream",
          "name": "stdout",
          "text": [
            "\n",
            " Evaluar el nuevo modelo con el conjunto de validación:\n",
            "WARNING:tensorflow:Layers in a Sequential model should only have a single input tensor. Received: inputs={'longitude': <tf.Tensor 'IteratorGetNext:3' shape=(1000,) dtype=float32>, 'latitude': <tf.Tensor 'IteratorGetNext:2' shape=(1000,) dtype=float32>, 'housing_median_age': <tf.Tensor 'IteratorGetNext:1' shape=(1000,) dtype=float32>, 'total_rooms': <tf.Tensor 'IteratorGetNext:7' shape=(1000,) dtype=float32>, 'total_bedrooms': <tf.Tensor 'IteratorGetNext:6' shape=(1000,) dtype=float32>, 'population': <tf.Tensor 'IteratorGetNext:5' shape=(1000,) dtype=float32>, 'households': <tf.Tensor 'IteratorGetNext:0' shape=(1000,) dtype=float32>, 'median_income': <tf.Tensor 'IteratorGetNext:4' shape=(1000,) dtype=float32>}. Consider rewriting this model with the Functional API.\n",
            "WARNING:tensorflow:5 out of the last 13 calls to <function Model.make_test_function.<locals>.test_function at 0x7f9353f7ef80> triggered tf.function retracing. Tracing is expensive and the excessive number of tracings could be due to (1) creating @tf.function repeatedly in a loop, (2) passing tensors with different shapes, (3) passing Python objects instead of tensors. For (1), please define your @tf.function outside of the loop. For (2), @tf.function has experimental_relax_shapes=True option that relaxes argument shapes that can avoid unnecessary retracing. For (3), please refer to https://www.tensorflow.org/guide/function#controlling_retracing and https://www.tensorflow.org/api_docs/python/tf/function for  more details.\n",
            "3/3 [==============================] - 0s 7ms/step - loss: 0.3669 - mean_squared_error: 0.3669\n"
          ]
        },
        {
          "output_type": "execute_result",
          "data": {
            "text/plain": [
              "[0.36686381697654724, 0.36686381697654724]"
            ]
          },
          "metadata": {},
          "execution_count": 32
        }
      ]
    },
    {
      "cell_type": "markdown",
      "source": [
        "En comparación al modelo anterior, la red neuronal profunda (segundo modelo) ofrece mejores resultados que el modelo de realción lineal, lo que sugiere que la red neuronal hará mejores predicciones.  "
      ],
      "metadata": {
        "id": "weSLk1yuXFEc"
      }
    },
    {
      "cell_type": "markdown",
      "source": [
        "Muchas respuestas son posibles si se modifican el número de capas y el número de neuronas por capa: \n",
        "- Dos capas superaron a una capa, pero, probando con tres capas no funcionó significativamente mejor que dos capas. En otras palabras, dos capas parecían lo mejor.\n",
        "- A medida que reduje el número de nodos en cada capa (10 y 6), por debajo del anterior, la pérdida de prueba aumentó."
      ],
      "metadata": {
        "id": "qG9fQReicEL_"
      }
    },
    {
      "cell_type": "markdown",
      "source": [
        "**Regularizar la red neuronal**\n",
        "\n",
        "Si se observan con atención los resultados de los modelos obtenidos, veremos que, en ambos casos, el conjunto de prueba es mayor que la pérdida frente al conjunto de entrenamiento. En otras palabras, la red neuronal profunda se está sobreajustando a los datos del conjunto de entrenamiento. \n",
        "\n",
        "Para reducir el sobreajuste, voy a regularizar el modelo. Siendo posible regularizar de las siguientes maneras:\n",
        "\n",
        "- Regularización L1\n",
        "- Regularización L2\n",
        "- Regularización de la deserción\n"
      ],
      "metadata": {
        "id": "mFPVAXMJeCcz"
      }
    },
    {
      "cell_type": "code",
      "source": [
        "# En mi siguiente solución utilizo la regularización L2\n",
        "\n",
        "def crear_modelo(my_learning_rate, my_feature_layer):\n",
        "\n",
        "  model = None\n",
        "\n",
        "  model = tf.keras.models.Sequential()\n",
        "\n",
        "  model.add(my_feature_layer)\n",
        "\n",
        "  model.add(tf.keras.layers.Dense(units=20, \n",
        "                                  activation='relu',\n",
        "                                  kernel_regularizer=tf.keras.regularizers.l2(0.04),\n",
        "                                  name='Hidden1'))    # añado la regularización L2 con una fuerza de 0.04\n",
        "  \n",
        "  model.add(tf.keras.layers.Dense(units=12, \n",
        "                                  activation='relu', \n",
        "                                  kernel_regularizer=tf.keras.regularizers.l2(0.04),\n",
        "                                  name='Hidden2'))    # añado la regularización L2 con una fuerza de 0.04\n",
        "\n",
        "  model.add(tf.keras.layers.Dense(units=1,  \n",
        "                                  name='Output'))                              \n",
        "  \n",
        "  model.compile(optimizer=tf.keras.optimizers.Adam(lr=my_learning_rate),\n",
        "                loss=\"mean_squared_error\",\n",
        "                metrics=[tf.keras.metrics.MeanSquaredError()])\n",
        "\n",
        "  return model     \n",
        "\n",
        "learning_rate = 0.007\n",
        "epochs = 140\n",
        "batch_size = 1000\n",
        "\n",
        "label_name = \"median_house_value\"\n",
        "\n",
        "my_model = crear_modelo(learning_rate, my_feature_layer)\n",
        "\n",
        "# Train the model on the normalized training set.\n",
        "epochs, mse = train(my_model, train_df_norm, epochs, \n",
        "                          label_name, batch_size)\n",
        "loss_curve(epochs, mse)\n",
        "\n",
        "test_features = {name:np.array(value) for name, value in test_df_norm.items()}\n",
        "test_label = np.array(test_features.pop(label_name)) # isolate the label\n",
        "print(\"\\n Evaluar el nuevo modelo con el cojunto de validación:\")\n",
        "my_model.evaluate(x = test_features, y = test_label, batch_size=batch_size) "
      ],
      "metadata": {
        "colab": {
          "base_uri": "https://localhost:8080/",
          "height": 1000
        },
        "id": "9mke1lG6c6Yq",
        "outputId": "e2e3f2ba-882b-451e-8e0a-a95f72bf9828"
      },
      "execution_count": null,
      "outputs": [
        {
          "output_type": "stream",
          "name": "stdout",
          "text": [
            "Epoch 1/140\n",
            "WARNING:tensorflow:Layers in a Sequential model should only have a single input tensor. Received: inputs={'longitude': <tf.Tensor 'IteratorGetNext:3' shape=(1000,) dtype=float32>, 'latitude': <tf.Tensor 'IteratorGetNext:2' shape=(1000,) dtype=float32>, 'housing_median_age': <tf.Tensor 'IteratorGetNext:1' shape=(1000,) dtype=float32>, 'total_rooms': <tf.Tensor 'IteratorGetNext:7' shape=(1000,) dtype=float32>, 'total_bedrooms': <tf.Tensor 'IteratorGetNext:6' shape=(1000,) dtype=float32>, 'population': <tf.Tensor 'IteratorGetNext:5' shape=(1000,) dtype=float32>, 'households': <tf.Tensor 'IteratorGetNext:0' shape=(1000,) dtype=float32>, 'median_income': <tf.Tensor 'IteratorGetNext:4' shape=(1000,) dtype=float32>}. Consider rewriting this model with the Functional API.\n"
          ]
        },
        {
          "output_type": "stream",
          "name": "stderr",
          "text": [
            "/usr/local/lib/python3.7/dist-packages/keras/optimizer_v2/adam.py:105: UserWarning: The `lr` argument is deprecated, use `learning_rate` instead.\n",
            "  super(Adam, self).__init__(name, **kwargs)\n"
          ]
        },
        {
          "output_type": "stream",
          "name": "stdout",
          "text": [
            "WARNING:tensorflow:Layers in a Sequential model should only have a single input tensor. Received: inputs={'longitude': <tf.Tensor 'IteratorGetNext:3' shape=(1000,) dtype=float32>, 'latitude': <tf.Tensor 'IteratorGetNext:2' shape=(1000,) dtype=float32>, 'housing_median_age': <tf.Tensor 'IteratorGetNext:1' shape=(1000,) dtype=float32>, 'total_rooms': <tf.Tensor 'IteratorGetNext:7' shape=(1000,) dtype=float32>, 'total_bedrooms': <tf.Tensor 'IteratorGetNext:6' shape=(1000,) dtype=float32>, 'population': <tf.Tensor 'IteratorGetNext:5' shape=(1000,) dtype=float32>, 'households': <tf.Tensor 'IteratorGetNext:0' shape=(1000,) dtype=float32>, 'median_income': <tf.Tensor 'IteratorGetNext:4' shape=(1000,) dtype=float32>}. Consider rewriting this model with the Functional API.\n",
            "17/17 [==============================] - 1s 5ms/step - loss: 1.7319 - mean_squared_error: 0.6181\n",
            "Epoch 2/140\n",
            "17/17 [==============================] - 0s 5ms/step - loss: 0.7498 - mean_squared_error: 0.4193\n",
            "Epoch 3/140\n",
            "17/17 [==============================] - 0s 4ms/step - loss: 0.5493 - mean_squared_error: 0.3909\n",
            "Epoch 4/140\n",
            "17/17 [==============================] - 0s 5ms/step - loss: 0.4836 - mean_squared_error: 0.3794\n",
            "Epoch 5/140\n",
            "17/17 [==============================] - 0s 4ms/step - loss: 0.4562 - mean_squared_error: 0.3728\n",
            "Epoch 6/140\n",
            "17/17 [==============================] - 0s 4ms/step - loss: 0.4428 - mean_squared_error: 0.3695\n",
            "Epoch 7/140\n",
            "17/17 [==============================] - 0s 4ms/step - loss: 0.4371 - mean_squared_error: 0.3692\n",
            "Epoch 8/140\n",
            "17/17 [==============================] - 0s 4ms/step - loss: 0.4316 - mean_squared_error: 0.3674\n",
            "Epoch 9/140\n",
            "17/17 [==============================] - 0s 5ms/step - loss: 0.4291 - mean_squared_error: 0.3667\n",
            "Epoch 10/140\n",
            "17/17 [==============================] - 0s 4ms/step - loss: 0.4266 - mean_squared_error: 0.3669\n",
            "Epoch 11/140\n",
            "17/17 [==============================] - 0s 5ms/step - loss: 0.4248 - mean_squared_error: 0.3647\n",
            "Epoch 12/140\n",
            "17/17 [==============================] - 0s 4ms/step - loss: 0.4230 - mean_squared_error: 0.3671\n",
            "Epoch 13/140\n",
            "17/17 [==============================] - 0s 4ms/step - loss: 0.4186 - mean_squared_error: 0.3615\n",
            "Epoch 14/140\n",
            "17/17 [==============================] - 0s 4ms/step - loss: 0.4179 - mean_squared_error: 0.3631\n",
            "Epoch 15/140\n",
            "17/17 [==============================] - 0s 5ms/step - loss: 0.4162 - mean_squared_error: 0.3628\n",
            "Epoch 16/140\n",
            "17/17 [==============================] - 0s 4ms/step - loss: 0.4169 - mean_squared_error: 0.3630\n",
            "Epoch 17/140\n",
            "17/17 [==============================] - 0s 5ms/step - loss: 0.4124 - mean_squared_error: 0.3594\n",
            "Epoch 18/140\n",
            "17/17 [==============================] - 0s 4ms/step - loss: 0.4142 - mean_squared_error: 0.3627\n",
            "Epoch 19/140\n",
            "17/17 [==============================] - 0s 5ms/step - loss: 0.4113 - mean_squared_error: 0.3602\n",
            "Epoch 20/140\n",
            "17/17 [==============================] - 0s 4ms/step - loss: 0.4110 - mean_squared_error: 0.3599\n",
            "Epoch 21/140\n",
            "17/17 [==============================] - 0s 4ms/step - loss: 0.4110 - mean_squared_error: 0.3602\n",
            "Epoch 22/140\n",
            "17/17 [==============================] - 0s 4ms/step - loss: 0.4086 - mean_squared_error: 0.3594\n",
            "Epoch 23/140\n",
            "17/17 [==============================] - 0s 5ms/step - loss: 0.4086 - mean_squared_error: 0.3587\n",
            "Epoch 24/140\n",
            "17/17 [==============================] - 0s 4ms/step - loss: 0.4057 - mean_squared_error: 0.3560\n",
            "Epoch 25/140\n",
            "17/17 [==============================] - 0s 4ms/step - loss: 0.4057 - mean_squared_error: 0.3578\n",
            "Epoch 26/140\n",
            "17/17 [==============================] - 0s 4ms/step - loss: 0.4074 - mean_squared_error: 0.3597\n",
            "Epoch 27/140\n",
            "17/17 [==============================] - 0s 5ms/step - loss: 0.4045 - mean_squared_error: 0.3570\n",
            "Epoch 28/140\n",
            "17/17 [==============================] - 0s 4ms/step - loss: 0.4029 - mean_squared_error: 0.3548\n",
            "Epoch 29/140\n",
            "17/17 [==============================] - 0s 5ms/step - loss: 0.4025 - mean_squared_error: 0.3563\n",
            "Epoch 30/140\n",
            "17/17 [==============================] - 0s 5ms/step - loss: 0.4015 - mean_squared_error: 0.3554\n",
            "Epoch 31/140\n",
            "17/17 [==============================] - 0s 4ms/step - loss: 0.4005 - mean_squared_error: 0.3548\n",
            "Epoch 32/140\n",
            "17/17 [==============================] - 0s 5ms/step - loss: 0.4047 - mean_squared_error: 0.3587\n",
            "Epoch 33/140\n",
            "17/17 [==============================] - 0s 5ms/step - loss: 0.4003 - mean_squared_error: 0.3555\n",
            "Epoch 34/140\n",
            "17/17 [==============================] - 0s 4ms/step - loss: 0.4007 - mean_squared_error: 0.3559\n",
            "Epoch 35/140\n",
            "17/17 [==============================] - 0s 4ms/step - loss: 0.4078 - mean_squared_error: 0.3625\n",
            "Epoch 36/140\n",
            "17/17 [==============================] - 0s 4ms/step - loss: 0.4001 - mean_squared_error: 0.3553\n",
            "Epoch 37/140\n",
            "17/17 [==============================] - 0s 4ms/step - loss: 0.3977 - mean_squared_error: 0.3542\n",
            "Epoch 38/140\n",
            "17/17 [==============================] - 0s 4ms/step - loss: 0.3964 - mean_squared_error: 0.3529\n",
            "Epoch 39/140\n",
            "17/17 [==============================] - 0s 4ms/step - loss: 0.3949 - mean_squared_error: 0.3508\n",
            "Epoch 40/140\n",
            "17/17 [==============================] - 0s 5ms/step - loss: 0.3970 - mean_squared_error: 0.3544\n",
            "Epoch 41/140\n",
            "17/17 [==============================] - 0s 4ms/step - loss: 0.3969 - mean_squared_error: 0.3537\n",
            "Epoch 42/140\n",
            "17/17 [==============================] - 0s 5ms/step - loss: 0.3959 - mean_squared_error: 0.3541\n",
            "Epoch 43/140\n",
            "17/17 [==============================] - 0s 4ms/step - loss: 0.3959 - mean_squared_error: 0.3537\n",
            "Epoch 44/140\n",
            "17/17 [==============================] - 0s 4ms/step - loss: 0.3940 - mean_squared_error: 0.3523\n",
            "Epoch 45/140\n",
            "17/17 [==============================] - 0s 4ms/step - loss: 0.3930 - mean_squared_error: 0.3514\n",
            "Epoch 46/140\n",
            "17/17 [==============================] - 0s 5ms/step - loss: 0.3939 - mean_squared_error: 0.3522\n",
            "Epoch 47/140\n",
            "17/17 [==============================] - 0s 4ms/step - loss: 0.3946 - mean_squared_error: 0.3536\n",
            "Epoch 48/140\n",
            "17/17 [==============================] - 0s 4ms/step - loss: 0.3949 - mean_squared_error: 0.3535\n",
            "Epoch 49/140\n",
            "17/17 [==============================] - 0s 4ms/step - loss: 0.3919 - mean_squared_error: 0.3519\n",
            "Epoch 50/140\n",
            "17/17 [==============================] - 0s 4ms/step - loss: 0.3908 - mean_squared_error: 0.3506\n",
            "Epoch 51/140\n",
            "17/17 [==============================] - 0s 4ms/step - loss: 0.3918 - mean_squared_error: 0.3517\n",
            "Epoch 52/140\n",
            "17/17 [==============================] - 0s 4ms/step - loss: 0.3930 - mean_squared_error: 0.3531\n",
            "Epoch 53/140\n",
            "17/17 [==============================] - 0s 4ms/step - loss: 0.3904 - mean_squared_error: 0.3504\n",
            "Epoch 54/140\n",
            "17/17 [==============================] - 0s 5ms/step - loss: 0.3915 - mean_squared_error: 0.3518\n",
            "Epoch 55/140\n",
            "17/17 [==============================] - 0s 4ms/step - loss: 0.3926 - mean_squared_error: 0.3540\n",
            "Epoch 56/140\n",
            "17/17 [==============================] - 0s 4ms/step - loss: 0.3920 - mean_squared_error: 0.3522\n",
            "Epoch 57/140\n",
            "17/17 [==============================] - 0s 4ms/step - loss: 0.3920 - mean_squared_error: 0.3536\n",
            "Epoch 58/140\n",
            "17/17 [==============================] - 0s 4ms/step - loss: 0.3893 - mean_squared_error: 0.3503\n",
            "Epoch 59/140\n",
            "17/17 [==============================] - 0s 4ms/step - loss: 0.3876 - mean_squared_error: 0.3497\n",
            "Epoch 60/140\n",
            "17/17 [==============================] - 0s 4ms/step - loss: 0.3880 - mean_squared_error: 0.3504\n",
            "Epoch 61/140\n",
            "17/17 [==============================] - 0s 4ms/step - loss: 0.3880 - mean_squared_error: 0.3501\n",
            "Epoch 62/140\n",
            "17/17 [==============================] - 0s 4ms/step - loss: 0.3906 - mean_squared_error: 0.3529\n",
            "Epoch 63/140\n",
            "17/17 [==============================] - 0s 4ms/step - loss: 0.3880 - mean_squared_error: 0.3505\n",
            "Epoch 64/140\n",
            "17/17 [==============================] - 0s 4ms/step - loss: 0.3869 - mean_squared_error: 0.3491\n",
            "Epoch 65/140\n",
            "17/17 [==============================] - 0s 4ms/step - loss: 0.3879 - mean_squared_error: 0.3508\n",
            "Epoch 66/140\n",
            "17/17 [==============================] - 0s 4ms/step - loss: 0.3891 - mean_squared_error: 0.3518\n",
            "Epoch 67/140\n",
            "17/17 [==============================] - 0s 5ms/step - loss: 0.3870 - mean_squared_error: 0.3503\n",
            "Epoch 68/140\n",
            "17/17 [==============================] - 0s 4ms/step - loss: 0.3880 - mean_squared_error: 0.3516\n",
            "Epoch 69/140\n",
            "17/17 [==============================] - 0s 4ms/step - loss: 0.3867 - mean_squared_error: 0.3498\n",
            "Epoch 70/140\n",
            "17/17 [==============================] - 0s 4ms/step - loss: 0.3859 - mean_squared_error: 0.3503\n",
            "Epoch 71/140\n",
            "17/17 [==============================] - 0s 4ms/step - loss: 0.3842 - mean_squared_error: 0.3476\n",
            "Epoch 72/140\n",
            "17/17 [==============================] - 0s 4ms/step - loss: 0.3882 - mean_squared_error: 0.3526\n",
            "Epoch 73/140\n",
            "17/17 [==============================] - 0s 4ms/step - loss: 0.3865 - mean_squared_error: 0.3505\n",
            "Epoch 74/140\n",
            "17/17 [==============================] - 0s 4ms/step - loss: 0.3881 - mean_squared_error: 0.3525\n",
            "Epoch 75/140\n",
            "17/17 [==============================] - 0s 4ms/step - loss: 0.3858 - mean_squared_error: 0.3494\n",
            "Epoch 76/140\n",
            "17/17 [==============================] - 0s 4ms/step - loss: 0.3832 - mean_squared_error: 0.3476\n",
            "Epoch 77/140\n",
            "17/17 [==============================] - 0s 4ms/step - loss: 0.3831 - mean_squared_error: 0.3477\n",
            "Epoch 78/140\n",
            "17/17 [==============================] - 0s 5ms/step - loss: 0.3813 - mean_squared_error: 0.3455\n",
            "Epoch 79/140\n",
            "17/17 [==============================] - 0s 4ms/step - loss: 0.3839 - mean_squared_error: 0.3480\n",
            "Epoch 80/140\n",
            "17/17 [==============================] - 0s 5ms/step - loss: 0.3866 - mean_squared_error: 0.3511\n",
            "Epoch 81/140\n",
            "17/17 [==============================] - 0s 4ms/step - loss: 0.3840 - mean_squared_error: 0.3490\n",
            "Epoch 82/140\n",
            "17/17 [==============================] - 0s 5ms/step - loss: 0.3819 - mean_squared_error: 0.3464\n",
            "Epoch 83/140\n",
            "17/17 [==============================] - 0s 4ms/step - loss: 0.3811 - mean_squared_error: 0.3460\n",
            "Epoch 84/140\n",
            "17/17 [==============================] - 0s 4ms/step - loss: 0.3814 - mean_squared_error: 0.3462\n",
            "Epoch 85/140\n",
            "17/17 [==============================] - 0s 4ms/step - loss: 0.3854 - mean_squared_error: 0.3507\n",
            "Epoch 86/140\n",
            "17/17 [==============================] - 0s 4ms/step - loss: 0.3806 - mean_squared_error: 0.3462\n",
            "Epoch 87/140\n",
            "17/17 [==============================] - 0s 4ms/step - loss: 0.3794 - mean_squared_error: 0.3447\n",
            "Epoch 88/140\n",
            "17/17 [==============================] - 0s 4ms/step - loss: 0.3798 - mean_squared_error: 0.3453\n",
            "Epoch 89/140\n",
            "17/17 [==============================] - 0s 4ms/step - loss: 0.3811 - mean_squared_error: 0.3470\n",
            "Epoch 90/140\n",
            "17/17 [==============================] - 0s 4ms/step - loss: 0.3800 - mean_squared_error: 0.3459\n",
            "Epoch 91/140\n",
            "17/17 [==============================] - 0s 4ms/step - loss: 0.3799 - mean_squared_error: 0.3460\n",
            "Epoch 92/140\n",
            "17/17 [==============================] - 0s 5ms/step - loss: 0.3819 - mean_squared_error: 0.3485\n",
            "Epoch 93/140\n",
            "17/17 [==============================] - 0s 5ms/step - loss: 0.3791 - mean_squared_error: 0.3449\n",
            "Epoch 94/140\n",
            "17/17 [==============================] - 0s 4ms/step - loss: 0.3786 - mean_squared_error: 0.3450\n",
            "Epoch 95/140\n",
            "17/17 [==============================] - 0s 4ms/step - loss: 0.3815 - mean_squared_error: 0.3477\n",
            "Epoch 96/140\n",
            "17/17 [==============================] - 0s 4ms/step - loss: 0.3783 - mean_squared_error: 0.3457\n",
            "Epoch 97/140\n",
            "17/17 [==============================] - 0s 5ms/step - loss: 0.3808 - mean_squared_error: 0.3473\n",
            "Epoch 98/140\n",
            "17/17 [==============================] - 0s 4ms/step - loss: 0.3840 - mean_squared_error: 0.3510\n",
            "Epoch 99/140\n",
            "17/17 [==============================] - 0s 5ms/step - loss: 0.3802 - mean_squared_error: 0.3467\n",
            "Epoch 100/140\n",
            "17/17 [==============================] - 0s 4ms/step - loss: 0.3778 - mean_squared_error: 0.3448\n",
            "Epoch 101/140\n",
            "17/17 [==============================] - 0s 4ms/step - loss: 0.3798 - mean_squared_error: 0.3468\n",
            "Epoch 102/140\n",
            "17/17 [==============================] - 0s 4ms/step - loss: 0.3777 - mean_squared_error: 0.3454\n",
            "Epoch 103/140\n",
            "17/17 [==============================] - 0s 4ms/step - loss: 0.3773 - mean_squared_error: 0.3446\n",
            "Epoch 104/140\n",
            "17/17 [==============================] - 0s 5ms/step - loss: 0.3767 - mean_squared_error: 0.3440\n",
            "Epoch 105/140\n",
            "17/17 [==============================] - 0s 4ms/step - loss: 0.3768 - mean_squared_error: 0.3447\n",
            "Epoch 106/140\n",
            "17/17 [==============================] - 0s 4ms/step - loss: 0.3792 - mean_squared_error: 0.3470\n",
            "Epoch 107/140\n",
            "17/17 [==============================] - 0s 4ms/step - loss: 0.3779 - mean_squared_error: 0.3460\n",
            "Epoch 108/140\n",
            "17/17 [==============================] - 0s 4ms/step - loss: 0.3814 - mean_squared_error: 0.3496\n",
            "Epoch 109/140\n",
            "17/17 [==============================] - 0s 4ms/step - loss: 0.3800 - mean_squared_error: 0.3488\n",
            "Epoch 110/140\n",
            "17/17 [==============================] - 0s 4ms/step - loss: 0.3760 - mean_squared_error: 0.3443\n",
            "Epoch 111/140\n",
            "17/17 [==============================] - 0s 4ms/step - loss: 0.3760 - mean_squared_error: 0.3444\n",
            "Epoch 112/140\n",
            "17/17 [==============================] - 0s 4ms/step - loss: 0.3785 - mean_squared_error: 0.3470\n",
            "Epoch 113/140\n",
            "17/17 [==============================] - 0s 4ms/step - loss: 0.3749 - mean_squared_error: 0.3438\n",
            "Epoch 114/140\n",
            "17/17 [==============================] - 0s 4ms/step - loss: 0.3757 - mean_squared_error: 0.3440\n",
            "Epoch 115/140\n",
            "17/17 [==============================] - 0s 4ms/step - loss: 0.3741 - mean_squared_error: 0.3428\n",
            "Epoch 116/140\n",
            "17/17 [==============================] - 0s 5ms/step - loss: 0.3751 - mean_squared_error: 0.3445\n",
            "Epoch 117/140\n",
            "17/17 [==============================] - 0s 4ms/step - loss: 0.3757 - mean_squared_error: 0.3447\n",
            "Epoch 118/140\n",
            "17/17 [==============================] - 0s 4ms/step - loss: 0.3787 - mean_squared_error: 0.3480\n",
            "Epoch 119/140\n",
            "17/17 [==============================] - 0s 4ms/step - loss: 0.3781 - mean_squared_error: 0.3471\n",
            "Epoch 120/140\n",
            "17/17 [==============================] - 0s 4ms/step - loss: 0.3758 - mean_squared_error: 0.3446\n",
            "Epoch 121/140\n",
            "17/17 [==============================] - 0s 4ms/step - loss: 0.3762 - mean_squared_error: 0.3458\n",
            "Epoch 122/140\n",
            "17/17 [==============================] - 0s 4ms/step - loss: 0.3743 - mean_squared_error: 0.3439\n",
            "Epoch 123/140\n",
            "17/17 [==============================] - 0s 4ms/step - loss: 0.3768 - mean_squared_error: 0.3466\n",
            "Epoch 124/140\n",
            "17/17 [==============================] - 0s 4ms/step - loss: 0.3756 - mean_squared_error: 0.3450\n",
            "Epoch 125/140\n",
            "17/17 [==============================] - 0s 5ms/step - loss: 0.3734 - mean_squared_error: 0.3435\n",
            "Epoch 126/140\n",
            "17/17 [==============================] - 0s 4ms/step - loss: 0.3731 - mean_squared_error: 0.3428\n",
            "Epoch 127/140\n",
            "17/17 [==============================] - 0s 4ms/step - loss: 0.3729 - mean_squared_error: 0.3431\n",
            "Epoch 128/140\n",
            "17/17 [==============================] - 0s 4ms/step - loss: 0.3732 - mean_squared_error: 0.3435\n",
            "Epoch 129/140\n",
            "17/17 [==============================] - 0s 5ms/step - loss: 0.3725 - mean_squared_error: 0.3427\n",
            "Epoch 130/140\n",
            "17/17 [==============================] - 0s 4ms/step - loss: 0.3738 - mean_squared_error: 0.3441\n",
            "Epoch 131/140\n",
            "17/17 [==============================] - 0s 4ms/step - loss: 0.3760 - mean_squared_error: 0.3468\n",
            "Epoch 132/140\n",
            "17/17 [==============================] - 0s 4ms/step - loss: 0.3760 - mean_squared_error: 0.3466\n",
            "Epoch 133/140\n",
            "17/17 [==============================] - 0s 4ms/step - loss: 0.3744 - mean_squared_error: 0.3452\n",
            "Epoch 134/140\n",
            "17/17 [==============================] - 0s 4ms/step - loss: 0.3743 - mean_squared_error: 0.3452\n",
            "Epoch 135/140\n",
            "17/17 [==============================] - 0s 4ms/step - loss: 0.3755 - mean_squared_error: 0.3459\n",
            "Epoch 136/140\n",
            "17/17 [==============================] - 0s 4ms/step - loss: 0.3721 - mean_squared_error: 0.3435\n",
            "Epoch 137/140\n",
            "17/17 [==============================] - 0s 4ms/step - loss: 0.3734 - mean_squared_error: 0.3441\n",
            "Epoch 138/140\n",
            "17/17 [==============================] - 0s 4ms/step - loss: 0.3751 - mean_squared_error: 0.3464\n",
            "Epoch 139/140\n",
            "17/17 [==============================] - 0s 4ms/step - loss: 0.3761 - mean_squared_error: 0.3469\n",
            "Epoch 140/140\n",
            "17/17 [==============================] - 0s 4ms/step - loss: 0.3769 - mean_squared_error: 0.3478\n"
          ]
        },
        {
          "output_type": "display_data",
          "data": {
            "text/plain": [
              "<Figure size 432x288 with 1 Axes>"
            ],
            "image/png": "[encoded data removed]"
          },
          "metadata": {
            "needs_background": "light"
          }
        },
        {
          "output_type": "stream",
          "name": "stdout",
          "text": [
            "\n",
            " Evaluar el nuevo modelo con el cojunto de validación:\n",
            "WARNING:tensorflow:Layers in a Sequential model should only have a single input tensor. Received: inputs={'longitude': <tf.Tensor 'IteratorGetNext:3' shape=(1000,) dtype=float32>, 'latitude': <tf.Tensor 'IteratorGetNext:2' shape=(1000,) dtype=float32>, 'housing_median_age': <tf.Tensor 'IteratorGetNext:1' shape=(1000,) dtype=float32>, 'total_rooms': <tf.Tensor 'IteratorGetNext:7' shape=(1000,) dtype=float32>, 'total_bedrooms': <tf.Tensor 'IteratorGetNext:6' shape=(1000,) dtype=float32>, 'population': <tf.Tensor 'IteratorGetNext:5' shape=(1000,) dtype=float32>, 'households': <tf.Tensor 'IteratorGetNext:0' shape=(1000,) dtype=float32>, 'median_income': <tf.Tensor 'IteratorGetNext:4' shape=(1000,) dtype=float32>}. Consider rewriting this model with the Functional API.\n",
            "3/3 [==============================] - 0s 6ms/step - loss: 0.4050 - mean_squared_error: 0.3767\n"
          ]
        },
        {
          "output_type": "execute_result",
          "data": {
            "text/plain": [
              "[0.40496212244033813, 0.3767023980617523]"
            ]
          },
          "metadata": {},
          "execution_count": 46
        }
      ]
    }
  ]
}